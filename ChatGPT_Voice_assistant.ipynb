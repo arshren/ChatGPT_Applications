{
 "cells": [
  {
   "cell_type": "code",
   "execution_count": 2,
   "id": "62a552f2",
   "metadata": {},
   "outputs": [],
   "source": [
    "import os\n",
    "import openai\n",
    "import speech_recognition as sr\n",
    "#from dotenv import load_dotenv, find_dotenv\n",
    "from gtts import gTTS"
   ]
  },
  {
   "cell_type": "code",
   "execution_count": 7,
   "id": "83cc9977",
   "metadata": {},
   "outputs": [
    {
     "name": "stdout",
     "output_type": "stream",
     "text": [
      "Ask your question for ChatGPT...\n",
      "Processing...\n",
      "Youe question to ChatGPT was : give me a book summary of deep work\n"
     ]
    }
   ],
   "source": [
    "# Instruct or Prompt ChatGPT with what you the information you are seeking\n",
    "#Listening to users question using speech Recognition\n",
    "\n",
    "# initialize the recognizer\n",
    "r = sr.Recognizer()\n",
    "\n",
    "# use the microphone as a source\n",
    "with sr.Microphone() as source:\n",
    "    # adjust for ambient noise\n",
    "    r.adjust_for_ambient_noise(source)\n",
    "    print(\"Ask your question for ChatGPT...\")\n",
    "    # listen for audio input\n",
    "    audio = r.listen(source)\n",
    "    print(\"Processing...\")\n",
    "\n",
    "# recognize speech using Google Speech Recognition\n",
    "try:\n",
    "    text = r.recognize_google(audio)\n",
    "    print(\"Youe question to ChatGPT was : \" + text)\n",
    "except sr.UnknownValueError:\n",
    "    print(\"Google Speech Recognition could not understand audio\")\n",
    "except sr.RequestError as e:\n",
    "    print(\"Could not request results from Google Speech Recognition service; {0}\".format(e))\n"
   ]
  },
  {
   "cell_type": "code",
   "execution_count": null,
   "id": "d19bcddc",
   "metadata": {},
   "outputs": [],
   "source": [
    "## Read the ChatGPT API key from environment variable\n",
    "##Never share the API key, it is a secret\n",
    "_ = load_dotenv(find_dotenv())\n",
    "\n",
    "openai.api_key  = os.getenv('OPENAI_API_KEY')\n",
    "\n"
   ]
  },
  {
   "cell_type": "code",
   "execution_count": 9,
   "id": "7470a23e",
   "metadata": {},
   "outputs": [],
   "source": [
    "## Or Read from a key management \n",
    "file_path = 'open_api.txt'  # Specify the path of the text file\n",
    "\n",
    "try:\n",
    "    with open(file_path, 'r') as file:\n",
    "        api_key = file.read()\n",
    "        openai.api_key=api_key\n",
    "except FileNotFoundError:\n",
    "    print(f\"File '{file_path}' not found.\")\n",
    "except IOError:\n",
    "    print(\"An error occurred while reading the file.\")"
   ]
  },
  {
   "cell_type": "code",
   "execution_count": 13,
   "id": "87e0e11b",
   "metadata": {},
   "outputs": [],
   "source": [
    "##pass the instruction to the ChatGPt API\n",
    "prompt = text\n",
    "\n",
    "\n",
    "response = openai.Completion.create(\n",
    "  model=\"text-davinci-003\",\n",
    "  prompt=prompt,\n",
    "  temperature=0.7,\n",
    "  max_tokens=200,\n",
    "  top_p=1.0,\n",
    "  frequency_penalty=0.0,\n",
    "  presence_penalty=0.0\n",
    ")\n"
   ]
  },
  {
   "cell_type": "code",
   "execution_count": 14,
   "id": "c49ebc7e",
   "metadata": {},
   "outputs": [
    {
     "name": "stdout",
     "output_type": "stream",
     "text": [
      "\n",
      "\n",
      "Deep Work: Rules for Focused Success in a Distracted World is a non-fiction book by Cal Newport, a professor of computer science at Georgetown University. The book was published in 2016 and provides an insightful look into how to achieve maximum productivity in a distracted world. The book provides practical advice on how to focus and stay productive, while avoiding distraction and procrastination. Newport presents four rules to help people focus on the important tasks and stay productive: 1) Work Deeply, 2) Embrace Boredom, 3) Quit Social Media, and 4) Drain the Shallows. Through these rules, Newport encourages readers to develop the habit of deep work and focus on the most important tasks and projects. He also provides strategies for how to maintain focus and avoid distractions, and how to develop a work routine that supports deep work. The book also offers advice on how to use technology to support deep work, and how to achieve a balance between work and leisure.\n"
     ]
    }
   ],
   "source": [
    "print(response[\"choices\"][0][\"text\"])"
   ]
  },
  {
   "cell_type": "code",
   "execution_count": 15,
   "id": "6f1bd936",
   "metadata": {},
   "outputs": [],
   "source": [
    "##save the ChatGPT response to an audio file\n",
    "language = 'en' #english\n",
    "speech = gTTS(text = response[\"choices\"][0][\"text\"], lang = language, slow = False)\n",
    "speech.save('chatgpt_response.mp3') # this will save the format \n"
   ]
  },
  {
   "cell_type": "code",
   "execution_count": 16,
   "id": "2d4f274f",
   "metadata": {},
   "outputs": [
    {
     "name": "stdout",
     "output_type": "stream",
     "text": [
      "playing sound using native player\n"
     ]
    },
    {
     "data": {
      "text/plain": [
       "0"
      ]
     },
     "execution_count": 16,
     "metadata": {},
     "output_type": "execute_result"
    }
   ],
   "source": [
    "##Listen to the audio response\n",
    "# play sound\n",
    "file = 'chatgpt_response.mp3'\n",
    "\n",
    "print('playing sound using native player')\n",
    "os.system(\"afplay \" + file)"
   ]
  },
  {
   "cell_type": "code",
   "execution_count": null,
   "id": "47ca8d56",
   "metadata": {},
   "outputs": [],
   "source": []
  }
 ],
 "metadata": {
  "kernelspec": {
   "display_name": "Python 3 (ipykernel)",
   "language": "python",
   "name": "python3"
  },
  "language_info": {
   "codemirror_mode": {
    "name": "ipython",
    "version": 3
   },
   "file_extension": ".py",
   "mimetype": "text/x-python",
   "name": "python",
   "nbconvert_exporter": "python",
   "pygments_lexer": "ipython3",
   "version": "3.9.16"
  }
 },
 "nbformat": 4,
 "nbformat_minor": 5
}
